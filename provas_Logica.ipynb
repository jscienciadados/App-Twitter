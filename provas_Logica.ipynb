{
  "nbformat": 4,
  "nbformat_minor": 0,
  "metadata": {
    "colab": {
      "provenance": [],
      "authorship_tag": "ABX9TyM5GVRw3JMnG7S2DlPSxgIh",
      "include_colab_link": true
    },
    "kernelspec": {
      "name": "python3",
      "display_name": "Python 3"
    },
    "language_info": {
      "name": "python"
    }
  },
  "cells": [
    {
      "cell_type": "markdown",
      "metadata": {
        "id": "view-in-github",
        "colab_type": "text"
      },
      "source": [
        "<a href=\"https://colab.research.google.com/github/jscienciadados/App-Twitter/blob/main/provas_Logica.ipynb\" target=\"_parent\"><img src=\"https://colab.research.google.com/assets/colab-badge.svg\" alt=\"Open In Colab\"/></a>"
      ]
    },
    {
      "cell_type": "markdown",
      "source": [
        "**Provas**\n",
        "\n",
        "**Unidade I - Algoritmos**"
      ],
      "metadata": {
        "id": "7Lr0juRbVhnj"
      }
    },
    {
      "cell_type": "markdown",
      "source": [
        "**Prova I**\n",
        "\n",
        "Programa que calcule a área de um triangulo. O programa deve solicitar ao usuário que forneça a base e a altura do retângulo. Em seguida, o programa deve calcular a área usando a fórmula:\n",
        "\n",
        "**Are = Base x Altura**"
      ],
      "metadata": {
        "id": "wUPKLzrIV07W"
      }
    },
    {
      "cell_type": "code",
      "execution_count": 7,
      "metadata": {
        "colab": {
          "base_uri": "https://localhost:8080/"
        },
        "id": "xTXT6F-gVaJA",
        "outputId": "fde2f9ab-6cc8-4046-e270-73cba284c41c"
      },
      "outputs": [
        {
          "output_type": "stream",
          "name": "stdout",
          "text": [
            "Digite a base do triângulo: 12.1\n",
            "Digite a altura do triângulo: 15.7\n",
            "A Área do Triângulo Retângulo É, 189.97\n"
          ]
        }
      ],
      "source": [
        "base = float(input(\"Digite a base do triângulo: \"))\n",
        "altura = float(input(\"Digite a altura do triângulo: \"))\n",
        "area = base * altura\n",
        "print(f'A Área do Triângulo Retângulo É, {area:.2f}')"
      ]
    },
    {
      "cell_type": "markdown",
      "source": [],
      "metadata": {
        "id": "fBWi_pgzbkiv"
      }
    },
    {
      "cell_type": "markdown",
      "source": [],
      "metadata": {
        "id": "b40vgVzkbkgu"
      }
    },
    {
      "cell_type": "code",
      "source": [],
      "metadata": {
        "id": "5hQ6MzeeW3yB"
      },
      "execution_count": null,
      "outputs": []
    }
  ]
}